{
 "cells": [
  {
   "cell_type": "code",
   "execution_count": 1,
   "id": "a4a91817",
   "metadata": {},
   "outputs": [],
   "source": [
    "from pyspark import SparkContext"
   ]
  },
  {
   "cell_type": "code",
   "execution_count": 2,
   "id": "8d9ea8fe",
   "metadata": {},
   "outputs": [
    {
     "name": "stderr",
     "output_type": "stream",
     "text": [
      "Setting default log level to \"WARN\".\n",
      "To adjust logging level use sc.setLogLevel(newLevel). For SparkR, use setLogLevel(newLevel).\n",
      "24/02/23 14:01:49 WARN NativeCodeLoader: Unable to load native-hadoop library for your platform... using builtin-java classes where applicable\n"
     ]
    }
   ],
   "source": [
    "sc = SparkContext(master = 'local[*]', appName = 'FirstSparkApp')"
   ]
  },
  {
   "cell_type": "code",
   "execution_count": 27,
   "id": "f2a929e6",
   "metadata": {},
   "outputs": [
    {
     "data": {
      "text/plain": [
       "['ali',\n",
       " 'vahid',\n",
       " 'iman',\n",
       " 'mozhgan',\n",
       " 'naghi',\n",
       " 'gholi',\n",
       " 'reza',\n",
       " 'majid',\n",
       " 'elham',\n",
       " 'farid',\n",
       " 'hmidreza',\n",
       " 'tara',\n",
       " 'gholchehre',\n",
       " 'amir mehdi',\n",
       " 'sasan',\n",
       " 'haj mohammad',\n",
       " 'saeed',\n",
       " 'zahra',\n",
       " 'masoud',\n",
       " 'behrad',\n",
       " 'ava']"
      ]
     },
     "execution_count": 27,
     "metadata": {},
     "output_type": "execute_result"
    }
   ],
   "source": [
    "text_rdd = sc.textFile(\"/home/ali/DataScience/name_question.txt\")\n",
    "text_rdd = text_rdd.filter(lambda x : x != '')\n",
    "text_rdd.collect()"
   ]
  },
  {
   "cell_type": "code",
   "execution_count": 30,
   "id": "ea614c5a",
   "metadata": {},
   "outputs": [
    {
     "data": {
      "text/plain": [
       "[(3, 'ali'),\n",
       " (5, 'vahid'),\n",
       " (4, 'iman'),\n",
       " (7, 'mozhgan'),\n",
       " (5, 'naghi'),\n",
       " (5, 'gholi'),\n",
       " (4, 'reza'),\n",
       " (5, 'majid'),\n",
       " (5, 'elham'),\n",
       " (5, 'farid'),\n",
       " (8, 'hmidreza'),\n",
       " (4, 'tara'),\n",
       " (10, 'gholchehre'),\n",
       " (10, 'amir mehdi'),\n",
       " (5, 'sasan'),\n",
       " (12, 'haj mohammad'),\n",
       " (5, 'saeed'),\n",
       " (5, 'zahra'),\n",
       " (6, 'masoud'),\n",
       " (6, 'behrad'),\n",
       " (3, 'ava')]"
      ]
     },
     "execution_count": 30,
     "metadata": {},
     "output_type": "execute_result"
    }
   ],
   "source": [
    "word_count_rdd = text_rdd.map(lambda x : (len(x), x))\n",
    "word_count_rdd.collect()"
   ]
  },
  {
   "cell_type": "code",
   "execution_count": 35,
   "id": "d6fcea5f",
   "metadata": {},
   "outputs": [
    {
     "data": {
      "text/plain": [
       "[(3, ['ali', 'ava']),\n",
       " (4, ['iman', 'reza', 'tara']),\n",
       " (5,\n",
       "  ['vahid',\n",
       "   'naghi',\n",
       "   'gholi',\n",
       "   'majid',\n",
       "   'elham',\n",
       "   'farid',\n",
       "   'sasan',\n",
       "   'saeed',\n",
       "   'zahra']),\n",
       " (6, ['masoud', 'behrad']),\n",
       " (7, ['mozhgan']),\n",
       " (8, ['hmidreza']),\n",
       " (10, ['gholchehre', 'amir mehdi']),\n",
       " (12, ['haj mohammad'])]"
      ]
     },
     "execution_count": 35,
     "metadata": {},
     "output_type": "execute_result"
    }
   ],
   "source": [
    "group_rdd = word_count_rdd.groupByKey()\n",
    "group_rdd.map(lambda x : (x[0], list(x[1]))).sortByKey().collect()"
   ]
  },
  {
   "cell_type": "code",
   "execution_count": null,
   "id": "844ac43e",
   "metadata": {},
   "outputs": [],
   "source": []
  }
 ],
 "metadata": {
  "kernelspec": {
   "display_name": "Python 3 (ipykernel)",
   "language": "python",
   "name": "python3"
  },
  "language_info": {
   "codemirror_mode": {
    "name": "ipython",
    "version": 3
   },
   "file_extension": ".py",
   "mimetype": "text/x-python",
   "name": "python",
   "nbconvert_exporter": "python",
   "pygments_lexer": "ipython3",
   "version": "3.11.4"
  }
 },
 "nbformat": 4,
 "nbformat_minor": 5
}
