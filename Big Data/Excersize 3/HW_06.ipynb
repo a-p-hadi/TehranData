{
 "cells": [
  {
   "cell_type": "code",
   "execution_count": 1,
   "metadata": {},
   "outputs": [
    {
     "name": "stderr",
     "output_type": "stream",
     "text": [
      "Setting default log level to \"WARN\".\n",
      "To adjust logging level use sc.setLogLevel(newLevel). For SparkR, use setLogLevel(newLevel).\n",
      "24/03/08 15:43:22 WARN NativeCodeLoader: Unable to load native-hadoop library for your platform... using builtin-java classes where applicable\n"
     ]
    }
   ],
   "source": [
    "from pyspark.sql import SparkSession\n",
    "\n",
    "spark = SparkSession.builder.master('local[*]').appName('AirPort').getOrCreate()"
   ]
  },
  {
   "cell_type": "code",
   "execution_count": 2,
   "metadata": {},
   "outputs": [
    {
     "name": "stderr",
     "output_type": "stream",
     "text": [
      "                                                                                \r"
     ]
    },
    {
     "name": "stdout",
     "output_type": "stream",
     "text": [
      "+----------+------+----+------------------+\n",
      "|      isbn|userid|rate|         avg(rate)|\n",
      "+----------+------+----+------------------+\n",
      "|0425190048|261274|  10|               5.0|\n",
      "|0767915054|211919|   0| 2.480769230769231|\n",
      "|2080674722|276733|   0|3.6666666666666665|\n",
      "|034545104X|276725|   0| 2.933333333333333|\n",
      "|0451204530|261272|   8|3.1743119266055047|\n",
      "+----------+------+----+------------------+\n",
      "only showing top 5 rows\n",
      "\n"
     ]
    }
   ],
   "source": [
    "rate_df = spark.read.options(sep=';', header=True, inferSchema=True).csv(\"./BooksRating-CSV/Book-Ratings.csv\")\n",
    "rate_avg_df = rate_df.groupBy('isbn').avg('rate')\n",
    "rate_df = rate_df.join(rate_avg_df, on=\"isbn\", how=\"left_outer\")\n",
    "rate_df.show(5)"
   ]
  },
  {
   "cell_type": "code",
   "execution_count": 12,
   "metadata": {},
   "outputs": [],
   "source": [
    "from pyspark.sql.functions import collect_list\n",
    "\n",
    "grouped_rates_df = rate_df.groupBy('isbn').agg(collect_list('rate').alias('rates_list'))\n",
    "\n",
    "joined_df = rate_df.join(grouped_rates_df, 'isbn', 'left_outer')"
   ]
  },
  {
   "cell_type": "code",
   "execution_count": 13,
   "metadata": {},
   "outputs": [
    {
     "name": "stderr",
     "output_type": "stream",
     "text": [
      "                                                                                \r"
     ]
    },
    {
     "name": "stdout",
     "output_type": "stream",
     "text": [
      "+----------+------+----+------------------+--------------------+\n",
      "|      isbn|userid|rate|         avg(rate)|          rates_list|\n",
      "+----------+------+----+------------------+--------------------+\n",
      "|0060517794|276747|   9|3.6363636363636362|[7, 10, 0, 8, 0, ...|\n",
      "|0373241801|106936|   0|               0.0|                 [0]|\n",
      "|0380006081|106936|   0|               0.0|                 [0]|\n",
      "|0380718421|261275|   7|1.7619047619047619|[0, 8, 0, 0, 0, 0...|\n",
      "|0425190048|261274|  10|               5.0|             [0, 10]|\n",
      "|0553576348|261289|   7|             2.625|[0, 0, 9, 0, 0, 0...|\n",
      "|0767915054|211919|   0| 2.480769230769231|[0, 0, 9, 0, 5, 4...|\n",
      "|0786013990|276746|   0|3.2857142857142856|[0, 8, 7, 0, 0, 8...|\n",
      "|0787602035|211919|   6|               6.0|                 [6]|\n",
      "|0803493762|211919|   0|               0.0|              [0, 0]|\n",
      "|0805062262|211919|   0|               0.0|           [0, 0, 0]|\n",
      "|0805241221|211919|   0|               0.0|     [0, 0, 0, 0, 0]|\n",
      "|0811802981|211919|  10| 5.944444444444445|[10, 8, 9, 7, 9, ...|\n",
      "|1575840111| 52293|   5|               5.0|                 [5]|\n",
      "|2080674722|276733|   0|3.6666666666666665|           [0, 7, 4]|\n",
      "| 342310538|276745|  10|               5.0|             [10, 0]|\n",
      "|3442545668|160406|   0|               0.0|[0, 0, 0, 0, 0, 0...|\n",
      "|3446204555|160406|   0|0.8461538461538461|[6, 0, 0, 0, 0, 0...|\n",
      "|034545104X|276725|   0| 2.933333333333333|[5, 0, 5, 9, 0, 0...|\n",
      "|0373240414|106936|   0|               0.0|              [0, 0]|\n",
      "+----------+------+----+------------------+--------------------+\n",
      "only showing top 20 rows\n",
      "\n"
     ]
    }
   ],
   "source": [
    "joined_df.show()"
   ]
  },
  {
   "cell_type": "code",
   "execution_count": 40,
   "metadata": {},
   "outputs": [
    {
     "name": "stderr",
     "output_type": "stream",
     "text": [
      "[Stage 1205:==============================================>         (5 + 1) / 6]\r"
     ]
    },
    {
     "name": "stdout",
     "output_type": "stream",
     "text": [
      "+-----------+------+----+---------+------------+\n",
      "|       isbn|userid|rate|avg(rate)|rate_explode|\n",
      "+-----------+------+----+---------+------------+\n",
      "| 0330299891| 89192|   0|      3.0|           0|\n",
      "| 0330299891| 89192|   0|      3.0|           6|\n",
      "| 0330299891|181817|   6|      3.0|           0|\n",
      "| 0330299891|181817|   6|      3.0|           6|\n",
      "| 0375404120| 89192|   3|      1.5|           3|\n",
      "| 0375404120| 89192|   3|      1.5|           0|\n",
      "| 0375404120|266865|   0|      1.5|           3|\n",
      "| 0375404120|266865|   0|      1.5|           0|\n",
      "| 0586045007| 89192|   0|      0.0|           0|\n",
      "| 9022906116| 11676|   7|      3.5|           7|\n",
      "| 9022906116| 11676|   7|      3.5|           0|\n",
      "| 9022906116| 89192|   0|      3.5|           7|\n",
      "| 9022906116| 89192|   0|      3.5|           0|\n",
      "| 9032803328| 89192|   0|      0.0|           0|\n",
      "| 9044922564| 89192|   0|      0.0|           0|\n",
      "| 9044922572| 89192|   0|      0.0|           0|\n",
      "| 9044922718| 89192|   0|      0.0|           0|\n",
      "| 9044923161| 89192|   0|      0.0|           0|\n",
      "| 904492401X| 89192|   0|      0.0|           0|\n",
      "| 9061002273| 89192|   0|      0.0|           0|\n",
      "+-----------+------+----+---------+------------+\n",
      "only showing top 20 rows\n",
      "\n"
     ]
    },
    {
     "name": "stderr",
     "output_type": "stream",
     "text": [
      "                                                                                \r"
     ]
    }
   ],
   "source": [
    "from pyspark.sql.functions import explode\n",
    "exploded_df = joined_df.withColumn('rate_explode', explode('rates_list')).drop('rates_list')\n",
    "exploded_df.orderBy('isbn').show()"
   ]
  },
  {
   "cell_type": "code",
   "execution_count": 41,
   "metadata": {},
   "outputs": [
    {
     "data": {
      "text/plain": [
       "1149780"
      ]
     },
     "execution_count": 41,
     "metadata": {},
     "output_type": "execute_result"
    }
   ],
   "source": [
    "rate_df.count()"
   ]
  },
  {
   "cell_type": "code",
   "execution_count": 42,
   "metadata": {},
   "outputs": [
    {
     "data": {
      "text/plain": [
       "1149780"
      ]
     },
     "execution_count": 42,
     "metadata": {},
     "output_type": "execute_result"
    }
   ],
   "source": [
    "joined_df.count()"
   ]
  },
  {
   "cell_type": "code",
   "execution_count": 43,
   "metadata": {},
   "outputs": [
    {
     "name": "stderr",
     "output_type": "stream",
     "text": [
      "                                                                                \r"
     ]
    },
    {
     "data": {
      "text/plain": [
       "56552234"
      ]
     },
     "execution_count": 43,
     "metadata": {},
     "output_type": "execute_result"
    }
   ],
   "source": [
    "exploded_df.count()"
   ]
  }
 ],
 "metadata": {
  "kernelspec": {
   "display_name": "Python 3",
   "language": "python",
   "name": "python3"
  },
  "language_info": {
   "codemirror_mode": {
    "name": "ipython",
    "version": 3
   },
   "file_extension": ".py",
   "mimetype": "text/x-python",
   "name": "python",
   "nbconvert_exporter": "python",
   "pygments_lexer": "ipython3",
   "version": "3.11.4"
  },
  "orig_nbformat": 4
 },
 "nbformat": 4,
 "nbformat_minor": 2
}
