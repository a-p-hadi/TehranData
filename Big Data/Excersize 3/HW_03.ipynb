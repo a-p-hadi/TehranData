{
 "cells": [
  {
   "cell_type": "code",
   "execution_count": 1,
   "metadata": {},
   "outputs": [
    {
     "name": "stderr",
     "output_type": "stream",
     "text": [
      "Setting default log level to \"WARN\".\n",
      "To adjust logging level use sc.setLogLevel(newLevel). For SparkR, use setLogLevel(newLevel).\n",
      "24/03/01 14:05:37 WARN NativeCodeLoader: Unable to load native-hadoop library for your platform... using builtin-java classes where applicable\n"
     ]
    }
   ],
   "source": [
    "from pyspark import SparkContext\n",
    "sc = SparkContext(master = 'local[*]', appName = 'HomeWork_03')"
   ]
  },
  {
   "cell_type": "code",
   "execution_count": 2,
   "metadata": {},
   "outputs": [],
   "source": [
    "book_rdd = sc.textFile(\"./BooksRating-CSV/Books.csv\")\n",
    "user_rdd = sc.textFile(\"./BooksRating-CSV/Users.csv\")\n",
    "rate_rdd = sc.textFile(\"./BooksRating-CSV/Book-Ratings.csv\")"
   ]
  },
  {
   "cell_type": "code",
   "execution_count": 3,
   "metadata": {},
   "outputs": [
    {
     "name": "stderr",
     "output_type": "stream",
     "text": [
      "                                                                                \r"
     ]
    },
    {
     "name": "stdout",
     "output_type": "stream",
     "text": [
      "book Count: 271380, User Count: 278699, Rate Count: 1149781\n"
     ]
    }
   ],
   "source": [
    "print(f\"book Count: {book_rdd.count()}, User Count: {user_rdd.count()}, Rate Count: {rate_rdd.count()}\")"
   ]
  },
  {
   "cell_type": "code",
   "execution_count": 4,
   "metadata": {},
   "outputs": [
    {
     "data": {
      "text/plain": [
       "[('034545104X', '0'),\n",
       " ('0155061224', '5'),\n",
       " ('0446520802', '0'),\n",
       " ('052165615X', '3'),\n",
       " ('0521795028', '6')]"
      ]
     },
     "execution_count": 4,
     "metadata": {},
     "output_type": "execute_result"
    }
   ],
   "source": [
    "pair_rate_rdd = rate_rdd.map(lambda x: (x.split(';')[1].replace('\"', ''), x.split(';')[2].replace('\"', '')))\n",
    "header = pair_rate_rdd.first()\n",
    "pair_rate_rdd = pair_rate_rdd.filter(lambda x: x != header)\n",
    "pair_rate_rdd.take(5)"
   ]
  },
  {
   "cell_type": "code",
   "execution_count": 5,
   "metadata": {},
   "outputs": [
    {
     "name": "stderr",
     "output_type": "stream",
     "text": [
      "                                                                                \r"
     ]
    },
    {
     "data": {
      "text/plain": [
       "[('034545104X', (176, 60)),\n",
       " ('0155061224', (5, 2)),\n",
       " ('0521795028', (6, 1)),\n",
       " ('0600570967', (6, 1)),\n",
       " ('342310538', (10, 2))]"
      ]
     },
     "execution_count": 5,
     "metadata": {},
     "output_type": "execute_result"
    }
   ],
   "source": [
    "key_value_count = pair_rate_rdd.map(lambda x: (x[0], (int(x[1]), 1)))\n",
    "sum_count = key_value_count.reduceByKey(lambda x, y: (x[0] + y[0], x[1] + y[1]))\n",
    "sum_count.take(5)"
   ]
  },
  {
   "cell_type": "code",
   "execution_count": 6,
   "metadata": {},
   "outputs": [
    {
     "data": {
      "text/plain": [
       "[('034545104X', 2.933333333333333),\n",
       " ('0155061224', 2.5),\n",
       " ('0521795028', 6.0),\n",
       " ('0600570967', 6.0),\n",
       " ('342310538', 5.0)]"
      ]
     },
     "execution_count": 6,
     "metadata": {},
     "output_type": "execute_result"
    }
   ],
   "source": [
    "mean_rdd = sum_count.map(lambda x: (x[0], x[1][0] / x[1][1]))\n",
    "mean_rdd.take(5)"
   ]
  },
  {
   "cell_type": "code",
   "execution_count": 7,
   "metadata": {},
   "outputs": [
    {
     "data": {
      "text/plain": [
       "[('ISBN', 'BookTitle'),\n",
       " ('0195153448', 'Classical Mythology'),\n",
       " ('0002005018', 'Clara Callan'),\n",
       " ('0060973129', 'Decision in Normandy'),\n",
       " ('0374157065',\n",
       "  'Flu: The Story of the Great Influenza Pandemic of 1918 and the Search for the Virus That Caused It')]"
      ]
     },
     "execution_count": 7,
     "metadata": {},
     "output_type": "execute_result"
    }
   ],
   "source": [
    "book_title_rdd = book_rdd.map(lambda x: (x.split(';')[0].replace('\"', ''), x.split(';')[1].replace('\"', '')))\n",
    "book_title_rdd.take(5)"
   ]
  },
  {
   "cell_type": "code",
   "execution_count": 8,
   "metadata": {},
   "outputs": [
    {
     "data": {
      "text/plain": [
       "[('UserID', 'USERNAME'),\n",
       " ('1', 'bzsufoRTLN2'),\n",
       " ('2', 'fq7kfHg4VEI'),\n",
       " ('3', 'W0Hbkd3xR8v'),\n",
       " ('4', 'W51GahAx5Ap')]"
      ]
     },
     "execution_count": 8,
     "metadata": {},
     "output_type": "execute_result"
    }
   ],
   "source": [
    "pair_user_rdd = user_rdd.map(lambda x: (x.split(';')[0].replace('\"', ''), x.split(';')[1].replace('\"', '')))\n",
    "pair_user_rdd.take(5)"
   ]
  },
  {
   "cell_type": "code",
   "execution_count": 9,
   "metadata": {},
   "outputs": [
    {
     "data": {
      "text/plain": [
       "[('userid', ('isbn', 'rate')),\n",
       " ('276725', ('034545104X', '0')),\n",
       " ('276726', ('0155061224', '5')),\n",
       " ('276727', ('0446520802', '0')),\n",
       " ('276729', ('052165615X', '3'))]"
      ]
     },
     "execution_count": 9,
     "metadata": {},
     "output_type": "execute_result"
    }
   ],
   "source": [
    "pair_rate_rdd = rate_rdd.map(lambda x: (x.split(';')[0].replace('\"', ''), (x.split(';')[1].replace('\"', ''), x.split(';')[2].replace('\"', ''))))\n",
    "pair_rate_rdd.take(5)"
   ]
  },
  {
   "cell_type": "code",
   "execution_count": 10,
   "metadata": {},
   "outputs": [
    {
     "name": "stderr",
     "output_type": "stream",
     "text": [
      "                                                                                \r"
     ]
    },
    {
     "data": {
      "text/plain": [
       "[('276725', (('034545104X', '0'), 'qP0KgArgnkK')),\n",
       " ('276727', (('0446520802', '0'), 'AWJdCVnDLd8')),\n",
       " ('276744', (('038550120X', '7'), 'CoM54wt6AiU')),\n",
       " ('276746', (('0425115801', '0'), '7uxi3eD6COS')),\n",
       " ('276746', (('0449006522', '0'), '7uxi3eD6COS'))]"
      ]
     },
     "execution_count": 10,
     "metadata": {},
     "output_type": "execute_result"
    }
   ],
   "source": [
    "join_rate_rdd = pair_rate_rdd.leftOuterJoin(pair_user_rdd)\n",
    "join_rate_rdd.take(5)"
   ]
  },
  {
   "cell_type": "code",
   "execution_count": 11,
   "metadata": {},
   "outputs": [
    {
     "name": "stderr",
     "output_type": "stream",
     "text": [
      "                                                                                \r"
     ]
    },
    {
     "data": {
      "text/plain": [
       "[('034545104X', ('qP0KgArgnkK', '0')),\n",
       " ('0446520802', ('AWJdCVnDLd8', '0')),\n",
       " ('038550120X', ('CoM54wt6AiU', '7')),\n",
       " ('0425115801', ('7uxi3eD6COS', '0')),\n",
       " ('0449006522', ('7uxi3eD6COS', '0'))]"
      ]
     },
     "execution_count": 11,
     "metadata": {},
     "output_type": "execute_result"
    }
   ],
   "source": [
    "join_rate_rdd = join_rate_rdd.map(lambda x: (x[1][0][0], (x[1][1], x[1][0][1])))\n",
    "join_rate_rdd.take(5)"
   ]
  },
  {
   "cell_type": "code",
   "execution_count": 12,
   "metadata": {},
   "outputs": [
    {
     "name": "stderr",
     "output_type": "stream",
     "text": [
      "                                                                                \r"
     ]
    },
    {
     "data": {
      "text/plain": [
       "[('0446520802', (('AWJdCVnDLd8', '0'), 'The Notebook')),\n",
       " ('0446520802', (('qsTAPT3KK0R', '0'), 'The Notebook')),\n",
       " ('0446520802', (('eSB2qb78rCs', '0'), 'The Notebook')),\n",
       " ('0446520802', (('eJeGfMDh4PC', '6'), 'The Notebook')),\n",
       " ('0446520802', (('DbpWkW8ft4x', '0'), 'The Notebook'))]"
      ]
     },
     "execution_count": 12,
     "metadata": {},
     "output_type": "execute_result"
    }
   ],
   "source": [
    "join_rate_title_rdd = join_rate_rdd.leftOuterJoin(book_title_rdd)\n",
    "join_rate_title_rdd.take(5)"
   ]
  },
  {
   "cell_type": "code",
   "execution_count": 19,
   "metadata": {},
   "outputs": [
    {
     "name": "stderr",
     "output_type": "stream",
     "text": [
      "                                                                                \r"
     ]
    },
    {
     "data": {
      "text/plain": [
       "1149781"
      ]
     },
     "execution_count": 19,
     "metadata": {},
     "output_type": "execute_result"
    }
   ],
   "source": [
    "final_join_rdd = join_rate_title_rdd.leftOuterJoin(mean_rdd)\n",
    "final_join_rdd.count()"
   ]
  },
  {
   "cell_type": "code",
   "execution_count": 20,
   "metadata": {},
   "outputs": [
    {
     "name": "stderr",
     "output_type": "stream",
     "text": [
      "                                                                                \r"
     ]
    },
    {
     "data": {
      "text/plain": [
       "[('IzXx1URtubx', 'Demolition Angel', '6', 3.0476190476190474),\n",
       " ('r5ygrhe2D3u',\n",
       "  'Echo Burning (Jack Reacher Novels (Paperback))',\n",
       "  '0',\n",
       "  4.458333333333333),\n",
       " ('0DR1MSX3e2Y',\n",
       "  'Objects of Desire: The Lives of Antiques and Those Who Pursue Them',\n",
       "  '10',\n",
       "  10.0),\n",
       " ('MJrEKBEpuYd',\n",
       "  \"Wrangler'S Wedding (Silhouette Romance, No 1149)\",\n",
       "  '0',\n",
       "  5.333333333333333),\n",
       " ('Hnq18Bclvb4', 'The Notebook', '0', 3.4064516129032256)]"
      ]
     },
     "execution_count": 20,
     "metadata": {},
     "output_type": "execute_result"
    }
   ],
   "source": [
    "final_join_rdd = final_join_rdd.map(lambda x: (x[1][0][0][0], x[1][0][1], x[1][0][0][1], x[1][1]))\n",
    "final_join_rdd.takeSample(5, 5)"
   ]
  }
 ],
 "metadata": {
  "kernelspec": {
   "display_name": "Python 3",
   "language": "python",
   "name": "python3"
  },
  "language_info": {
   "codemirror_mode": {
    "name": "ipython",
    "version": 3
   },
   "file_extension": ".py",
   "mimetype": "text/x-python",
   "name": "python",
   "nbconvert_exporter": "python",
   "pygments_lexer": "ipython3",
   "version": "3.11.4"
  },
  "orig_nbformat": 4
 },
 "nbformat": 4,
 "nbformat_minor": 2
}
