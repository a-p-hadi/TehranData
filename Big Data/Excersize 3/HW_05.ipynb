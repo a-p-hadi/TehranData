{
 "cells": [
  {
   "cell_type": "code",
   "execution_count": null,
   "metadata": {},
   "outputs": [],
   "source": [
    "from pyspark.sql import SparkSession\n",
    "\n",
    "spark = SparkSession.builder.master('local[*]').appName('AirPort').getOrCreate()\n"
   ]
  },
  {
   "cell_type": "code",
   "execution_count": 9,
   "metadata": {},
   "outputs": [
    {
     "name": "stdout",
     "output_type": "stream",
     "text": [
      "+------+----------+----+\n",
      "|userid|      isbn|rate|\n",
      "+------+----------+----+\n",
      "|276725|034545104X|   0|\n",
      "|276726|0155061224|   5|\n",
      "|276727|0446520802|   0|\n",
      "|276729|052165615X|   3|\n",
      "|276729|0521795028|   6|\n",
      "+------+----------+----+\n",
      "only showing top 5 rows\n",
      "\n"
     ]
    }
   ],
   "source": [
    "book_df = spark.read.options(sep=';', header=True, inferSchema=True).csv(\"./BooksRating-CSV/Books.csv\").select('ISBN', 'BookTitle')\n",
    "user_df = spark.read.options(sep=';', header=True, inferSchema=True).csv(\"./BooksRating-CSV/Users.csv\").select('UserID', 'USERNAME')\n",
    "rate_df = spark.read.options(sep=';', header=True, inferSchema=True).csv(\"./BooksRating-CSV/Book-Ratings.csv\")\n",
    "rate_df.show(5)"
   ]
  },
  {
   "cell_type": "code",
   "execution_count": 10,
   "metadata": {},
   "outputs": [
    {
     "name": "stdout",
     "output_type": "stream",
     "text": [
      "book Count: 271379, User Count: 278698, Rate Count: 1149780\n"
     ]
    }
   ],
   "source": [
    "print(f\"book Count: {book_df.count()}, User Count: {user_df.count()}, Rate Count: {rate_df.count()}\")"
   ]
  },
  {
   "cell_type": "code",
   "execution_count": 11,
   "metadata": {},
   "outputs": [
    {
     "name": "stderr",
     "output_type": "stream",
     "text": [
      "[Stage 49:=========>                                                (1 + 5) / 6]\r"
     ]
    },
    {
     "name": "stdout",
     "output_type": "stream",
     "text": [
      "+----------+------------------+\n",
      "|      isbn|         avg(rate)|\n",
      "+----------+------------------+\n",
      "|2080674722|3.6666666666666665|\n",
      "|3499134004|               0.0|\n",
      "|3548603203|3.4166666666666665|\n",
      "|880781112X| 4.333333333333333|\n",
      "|0738205737|1.6666666666666667|\n",
      "|0749317256|               0.0|\n",
      "|0515131520|            1.6875|\n",
      "|8471662531|               7.0|\n",
      "|0441005470|               0.0|\n",
      "|0739417096| 5.285714285714286|\n",
      "+----------+------------------+\n",
      "only showing top 10 rows\n",
      "\n"
     ]
    },
    {
     "name": "stderr",
     "output_type": "stream",
     "text": [
      "                                                                                \r"
     ]
    }
   ],
   "source": [
    "rate_avg_df = rate_df.groupBy('isbn').avg('rate')\n",
    "rate_avg_df.show(10)"
   ]
  },
  {
   "cell_type": "code",
   "execution_count": 15,
   "metadata": {},
   "outputs": [
    {
     "name": "stderr",
     "output_type": "stream",
     "text": [
      "[Stage 53:===================>                                      (2 + 4) / 6]\r"
     ]
    },
    {
     "name": "stdout",
     "output_type": "stream",
     "text": [
      "+----------+------+----+------------------+\n",
      "|      isbn|userid|rate|         avg(rate)|\n",
      "+----------+------+----+------------------+\n",
      "|0373241801|106936|   0|               0.0|\n",
      "|0380718421|261275|   7|1.7619047619047619|\n",
      "|0425190048|261274|  10|               5.0|\n",
      "|0767915054|211919|   0| 2.480769230769231|\n",
      "|0787602035|211919|   6|               6.0|\n",
      "|2080674722|276733|   0|3.6666666666666665|\n",
      "| 342310538|276745|  10|               5.0|\n",
      "|3442545668|160406|   0|               0.0|\n",
      "|034545104X|276725|   0| 2.933333333333333|\n",
      "|0373240414|106936|   0|               0.0|\n",
      "+----------+------+----+------------------+\n",
      "only showing top 10 rows\n",
      "\n"
     ]
    },
    {
     "name": "stderr",
     "output_type": "stream",
     "text": [
      "                                                                                \r"
     ]
    }
   ],
   "source": [
    "rate_df = rate_df.join(rate_avg_df, on=\"isbn\", how=\"left_outer\")\n",
    "rate_df.show(10)"
   ]
  },
  {
   "cell_type": "code",
   "execution_count": 17,
   "metadata": {},
   "outputs": [
    {
     "name": "stderr",
     "output_type": "stream",
     "text": [
      "[Stage 67:======================================>                   (4 + 2) / 6]\r"
     ]
    },
    {
     "name": "stdout",
     "output_type": "stream",
     "text": [
      "+------+----------+----+------------------+-----------+\n",
      "|userid|      isbn|rate|         avg(rate)|   USERNAME|\n",
      "+------+----------+----+------------------+-----------+\n",
      "|106936|0373241801|   0|               0.0|LSDkMeABeWB|\n",
      "|261275|0380718421|   7|1.7619047619047619|FJsT5EMvG4I|\n",
      "|261274|0425190048|  10|               5.0|5hUaGV0wSbQ|\n",
      "|211919|0767915054|   0| 2.480769230769231|zBAXN2eueeL|\n",
      "|211919|0787602035|   6|               6.0|zBAXN2eueeL|\n",
      "|276733|2080674722|   0|3.6666666666666665|imIbzo4rK7T|\n",
      "|276745| 342310538|  10|               5.0|jLRV9LYfEUZ|\n",
      "|160406|3442545668|   0|               0.0|CVEPW5bg8fP|\n",
      "|276725|034545104X|   0| 2.933333333333333|qP0KgArgnkK|\n",
      "|106936|0373240414|   0|               0.0|LSDkMeABeWB|\n",
      "+------+----------+----+------------------+-----------+\n",
      "only showing top 10 rows\n",
      "\n"
     ]
    },
    {
     "name": "stderr",
     "output_type": "stream",
     "text": [
      "                                                                                \r"
     ]
    }
   ],
   "source": [
    "df = rate_df.join(user_df, on='userid', how=\"left_outer\")\n",
    "df.show(10)"
   ]
  },
  {
   "cell_type": "code",
   "execution_count": 18,
   "metadata": {},
   "outputs": [
    {
     "name": "stderr",
     "output_type": "stream",
     "text": [
      "[Stage 77:=========>                                                (1 + 5) / 6]\r"
     ]
    },
    {
     "name": "stdout",
     "output_type": "stream",
     "text": [
      "+----------+------+----+------------------+-----------+--------------------+\n",
      "|      isbn|userid|rate|         avg(rate)|   USERNAME|           BookTitle|\n",
      "+----------+------+----+------------------+-----------+--------------------+\n",
      "|0373241801|106936|   0|               0.0|LSDkMeABeWB|For The Love Of S...|\n",
      "|0380718421|261275|   7|1.7619047619047619|FJsT5EMvG4I|Name Withheld: A ...|\n",
      "|0425190048|261274|  10|               5.0|5hUaGV0wSbQ|A Gathering Place...|\n",
      "|0767915054|211919|   0| 2.480769230769231|zBAXN2eueeL|A Girl Named Zipp...|\n",
      "|0787602035|211919|   6|               6.0|zBAXN2eueeL|Wild Planet! 1,00...|\n",
      "|2080674722|276733|   0|3.6666666666666665|imIbzo4rK7T|Les Particules El...|\n",
      "| 342310538|276745|  10|               5.0|jLRV9LYfEUZ|                NULL|\n",
      "|3442545668|160406|   0|               0.0|CVEPW5bg8fP|                NULL|\n",
      "|034545104X|276725|   0| 2.933333333333333|qP0KgArgnkK|Flesh Tones: A Novel|\n",
      "|0373240414|106936|   0|               0.0|LSDkMeABeWB|Bachelor And The ...|\n",
      "+----------+------+----+------------------+-----------+--------------------+\n",
      "only showing top 10 rows\n",
      "\n"
     ]
    },
    {
     "name": "stderr",
     "output_type": "stream",
     "text": [
      "                                                                                \r"
     ]
    }
   ],
   "source": [
    "df = df.join(book_df, on='isbn', how=\"left_outer\")\n",
    "df.show(10)"
   ]
  },
  {
   "cell_type": "code",
   "execution_count": 20,
   "metadata": {},
   "outputs": [
    {
     "name": "stderr",
     "output_type": "stream",
     "text": [
      "[Stage 101:============================>                            (3 + 3) / 6]\r"
     ]
    },
    {
     "name": "stdout",
     "output_type": "stream",
     "text": [
      "+-----------+--------------------+----+------------------+\n",
      "|   USERNAME|           BookTitle|rate|         avg(rate)|\n",
      "+-----------+--------------------+----+------------------+\n",
      "|Eg2O6NDkj3d|Little Altars Eve...|   9|3.6363636363636362|\n",
      "|LSDkMeABeWB|For The Love Of S...|   0|               0.0|\n",
      "|LSDkMeABeWB|                NULL|   0|               0.0|\n",
      "|FJsT5EMvG4I|Name Withheld: A ...|   7|1.7619047619047619|\n",
      "|5hUaGV0wSbQ|A Gathering Place...|  10|               5.0|\n",
      "|3FDoZqpSivc|  Hello from Heaven!|   7|             2.625|\n",
      "|zBAXN2eueeL|A Girl Named Zipp...|   0| 2.480769230769231|\n",
      "|7uxi3eD6COS|         At the Edge|   0|3.2857142857142856|\n",
      "|zBAXN2eueeL|Wild Planet! 1,00...|   6|               6.0|\n",
      "|zBAXN2eueeL|Yesterday's Dream...|   0|               0.0|\n",
      "|zBAXN2eueeL|Online Markets fo...|   0|               0.0|\n",
      "|zBAXN2eueeL|In This Dark Hous...|   0|               0.0|\n",
      "|zBAXN2eueeL|The Golden Mean: ...|  10| 5.944444444444445|\n",
      "|riY2oKElGRk|Little Clown Car'...|   5|               5.0|\n",
      "|imIbzo4rK7T|Les Particules El...|   0|3.6666666666666665|\n",
      "|jLRV9LYfEUZ|                NULL|  10|               5.0|\n",
      "|CVEPW5bg8fP|                NULL|   0|               0.0|\n",
      "|CVEPW5bg8fP|                NULL|   0|0.8461538461538461|\n",
      "|qP0KgArgnkK|Flesh Tones: A Novel|   0| 2.933333333333333|\n",
      "|LSDkMeABeWB|Bachelor And The ...|   0|               0.0|\n",
      "+-----------+--------------------+----+------------------+\n",
      "only showing top 20 rows\n",
      "\n"
     ]
    },
    {
     "name": "stderr",
     "output_type": "stream",
     "text": [
      "                                                                                \r"
     ]
    }
   ],
   "source": [
    "df.select('USERNAME', 'BookTitle', 'rate', 'avg(rate)').show(20)"
   ]
  },
  {
   "cell_type": "code",
   "execution_count": 21,
   "metadata": {},
   "outputs": [
    {
     "name": "stderr",
     "output_type": "stream",
     "text": [
      "                                                                                \r"
     ]
    },
    {
     "name": "stdout",
     "output_type": "stream",
     "text": [
      "1149780\n"
     ]
    }
   ],
   "source": [
    "print(df.count())"
   ]
  }
 ],
 "metadata": {
  "kernelspec": {
   "display_name": "Python 3",
   "language": "python",
   "name": "python3"
  },
  "language_info": {
   "codemirror_mode": {
    "name": "ipython",
    "version": 3
   },
   "file_extension": ".py",
   "mimetype": "text/x-python",
   "name": "python",
   "nbconvert_exporter": "python",
   "pygments_lexer": "ipython3",
   "version": "3.11.4"
  },
  "orig_nbformat": 4
 },
 "nbformat": 4,
 "nbformat_minor": 2
}
