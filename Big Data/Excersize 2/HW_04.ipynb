{
 "cells": [
  {
   "cell_type": "code",
   "execution_count": 1,
   "metadata": {},
   "outputs": [],
   "source": [
    "from pyspark.sql import SparkSession"
   ]
  },
  {
   "cell_type": "code",
   "execution_count": 2,
   "metadata": {},
   "outputs": [
    {
     "name": "stderr",
     "output_type": "stream",
     "text": [
      "Setting default log level to \"WARN\".\n",
      "To adjust logging level use sc.setLogLevel(newLevel). For SparkR, use setLogLevel(newLevel).\n",
      "24/03/08 09:23:18 WARN NativeCodeLoader: Unable to load native-hadoop library for your platform... using builtin-java classes where applicable\n"
     ]
    }
   ],
   "source": [
    "spark = SparkSession.builder.master('local[*]').appName('AirPort').getOrCreate()"
   ]
  },
  {
   "cell_type": "code",
   "execution_count": 3,
   "metadata": {},
   "outputs": [
    {
     "name": "stdout",
     "output_type": "stream",
     "text": [
      "+--------------------+---------------+\n",
      "|        ReportPeriod|Passenger_Count|\n",
      "+--------------------+---------------+\n",
      "|01/01/2006 12:00:...|            490|\n",
      "|01/01/2006 12:00:...|            498|\n",
      "|01/01/2006 12:00:...|            753|\n",
      "|01/01/2006 12:00:...|            688|\n",
      "|01/01/2006 12:00:...|         401535|\n",
      "+--------------------+---------------+\n",
      "only showing top 5 rows\n",
      "\n"
     ]
    }
   ],
   "source": [
    "port_df = spark.read.options(sep=',', header=True, inferSchema=True).csv(\"/home/ali/DataScience/lax_passengers_header.csv\").select('ReportPeriod', 'Passenger_Count')\n",
    "port_df.show(5)"
   ]
  },
  {
   "cell_type": "code",
   "execution_count": 4,
   "metadata": {},
   "outputs": [
    {
     "name": "stdout",
     "output_type": "stream",
     "text": [
      "+----+-----+---------------+\n",
      "|year|month|Passenger_Count|\n",
      "+----+-----+---------------+\n",
      "|2006|   01|            490|\n",
      "|2006|   01|            498|\n",
      "|2006|   01|            753|\n",
      "|2006|   01|            688|\n",
      "|2006|   01|         401535|\n",
      "|2006|   01|         389745|\n",
      "|2006|   01|            561|\n",
      "|2006|   01|          98991|\n",
      "|2006|   01|         163067|\n",
      "|2006|   01|          93672|\n",
      "|2006|   01|         156751|\n",
      "|2006|   01|         121649|\n",
      "|2006|   01|          26585|\n",
      "|2006|   01|         120111|\n",
      "|2006|   01|          60948|\n",
      "|2006|   01|         381419|\n",
      "|2006|   01|          68348|\n",
      "|2006|   01|         374238|\n",
      "|2006|   01|          42256|\n",
      "|2006|   01|         135622|\n",
      "+----+-----+---------------+\n",
      "only showing top 20 rows\n",
      "\n"
     ]
    }
   ],
   "source": [
    "from pyspark.sql.functions import *\n",
    "split_column = split(port_df['ReportPeriod'], ' ').alias('date')\n",
    "split_date = split(split_column[0], '/').alias('date')\n",
    "port_df = port_df.select(split_date[2].alias('year'), split_date[0].alias('month'), 'Passenger_Count')\n",
    "port_df.show()"
   ]
  },
  {
   "cell_type": "code",
   "execution_count": 5,
   "metadata": {},
   "outputs": [
    {
     "name": "stdout",
     "output_type": "stream",
     "text": [
      "+----+-----+---------------+\n",
      "|year|month|Passenger_Count|\n",
      "+----+-----+---------------+\n",
      "|2006|   03|        5090294|\n",
      "|2006|   04|        5087874|\n",
      "|2006|   05|        5177408|\n",
      "|2006|   06|        5510023|\n",
      "|2006|   07|        5919723|\n",
      "|2006|   08|        5745243|\n",
      "|2006|   12|        5072332|\n",
      "|2007|   03|        5241814|\n",
      "|2007|   04|        5173114|\n",
      "|2007|   05|        5256929|\n",
      "|2007|   06|        5626463|\n",
      "|2007|   07|        6052849|\n",
      "|2007|   08|        5939548|\n",
      "|2007|   10|        5070042|\n",
      "|2007|   12|        5187718|\n",
      "|2008|   03|        5233679|\n",
      "|2008|   05|        5247987|\n",
      "|2008|   06|        5539873|\n",
      "|2008|   07|        5791568|\n",
      "|2008|   08|        5715285|\n",
      "+----+-----+---------------+\n",
      "only showing top 20 rows\n",
      "\n"
     ]
    }
   ],
   "source": [
    "group_port_df = port_df.groupBy('year', 'month').agg(sum('Passenger_Count').alias('Passenger_Count')).filter('Passenger_Count > 5000000').orderBy(col('year'), col('month'))\n",
    "group_port_df.show()"
   ]
  },
  {
   "cell_type": "code",
   "execution_count": 8,
   "metadata": {},
   "outputs": [
    {
     "name": "stdout",
     "output_type": "stream",
     "text": [
      "2006/03   5090294\n",
      "2006/04   5087874\n",
      "2006/05   5177408\n",
      "2006/06   5510023\n",
      "2006/07   5919723\n",
      "2006/08   5745243\n",
      "2006/12   5072332\n",
      "2007/03   5241814\n",
      "2007/04   5173114\n",
      "2007/05   5256929\n",
      "2007/06   5626463\n",
      "2007/07   6052849\n",
      "2007/08   5939548\n",
      "2007/10   5070042\n",
      "2007/12   5187718\n",
      "2008/03   5233679\n",
      "2008/05   5247987\n",
      "2008/06   5539873\n",
      "2008/07   5791568\n",
      "2008/08   5715285\n",
      "2009/06   5040491\n",
      "2009/07   5604410\n",
      "2009/08   5437442\n",
      "2010/06   5311394\n",
      "2010/07   5692861\n",
      "2010/08   5617846\n",
      "2010/12   5049857\n",
      "2011/04   5028216\n",
      "2011/05   5477064\n",
      "2011/06   5631716\n",
      "2011/07   6071342\n",
      "2011/08   5918524\n",
      "2011/10   5124604\n",
      "2011/12   5028644\n",
      "2012/03   5252557\n",
      "2012/04   5161128\n",
      "2012/05   5412946\n",
      "2012/06   5739904\n",
      "2012/07   6190326\n",
      "2012/08   6093345\n",
      "2012/09   5054257\n",
      "2012/10   5191471\n",
      "2012/12   5278513\n",
      "2013/01   5050736\n",
      "2013/03   5545523\n",
      "2013/04   5310497\n",
      "2013/05   5713956\n",
      "2013/06   6114514\n",
      "2013/07   6468978\n",
      "2013/08   6330168\n",
      "2013/09   5308253\n",
      "2013/10   5515805\n",
      "2013/11   5057005\n",
      "2013/12   5769931\n",
      "2014/01   5419617\n",
      "2014/03   5785094\n",
      "2014/04   5760137\n",
      "2014/05   6081009\n",
      "2014/06   6524047\n",
      "2014/07   6872077\n",
      "2014/08   6717640\n",
      "2014/09   5573460\n",
      "2014/10   5865886\n",
      "2014/11   5380445\n",
      "2014/12   5921556\n",
      "2015/01   5439194\n",
      "2015/03   6026597\n",
      "2015/04   5938315\n",
      "2015/05   6356977\n",
      "2015/06   6790278\n",
      "2015/07   7275519\n",
      "2015/08   7109174\n",
      "2015/09   6027070\n",
      "2015/10   6375052\n",
      "2015/11   6016989\n",
      "2015/12   6394966\n",
      "2016/01   6068709\n",
      "2016/02   5466843\n",
      "2016/03   6476274\n",
      "2016/04   6305765\n",
      "2016/05   6784001\n",
      "2016/06   7489678\n",
      "2016/07   7889395\n",
      "2016/08   7595010\n",
      "2016/09   6603116\n",
      "2016/10   6865238\n",
      "2016/11   6496118\n",
      "2016/12   6872261\n",
      "2017/01   6444587\n",
      "2017/02   5604244\n",
      "2017/03   6779400\n",
      "2017/04   6874237\n",
      "2017/05   7167451\n",
      "2017/06   7726882\n",
      "2017/07   8176029\n",
      "2017/08   7930082\n"
     ]
    }
   ],
   "source": [
    "for row in group_port_df.collect():\n",
    "    print(f'{row.year}/{row.month}   {row.Passenger_Count}')"
   ]
  }
 ],
 "metadata": {
  "kernelspec": {
   "display_name": "Python 3 (ipykernel)",
   "language": "python",
   "name": "python3"
  },
  "language_info": {
   "codemirror_mode": {
    "name": "ipython",
    "version": 3
   },
   "file_extension": ".py",
   "mimetype": "text/x-python",
   "name": "python",
   "nbconvert_exporter": "python",
   "pygments_lexer": "ipython3",
   "version": "3.11.4"
  }
 },
 "nbformat": 4,
 "nbformat_minor": 2
}
