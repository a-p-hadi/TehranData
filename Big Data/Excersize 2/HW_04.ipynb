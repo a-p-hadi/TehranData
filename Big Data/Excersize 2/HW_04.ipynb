{
 "cells": [
  {
   "cell_type": "code",
   "execution_count": 1,
   "metadata": {},
   "outputs": [],
   "source": [
    "from pyspark.sql import SparkSession"
   ]
  },
  {
   "cell_type": "code",
   "execution_count": 2,
   "metadata": {},
   "outputs": [
    {
     "name": "stderr",
     "output_type": "stream",
     "text": [
      "Setting default log level to \"WARN\".\n",
      "To adjust logging level use sc.setLogLevel(newLevel). For SparkR, use setLogLevel(newLevel).\n",
      "24/03/01 16:50:04 WARN NativeCodeLoader: Unable to load native-hadoop library for your platform... using builtin-java classes where applicable\n"
     ]
    }
   ],
   "source": [
    "spark = SparkSession.builder.master('local[*]').appName('AirPort').getOrCreate()"
   ]
  },
  {
   "cell_type": "code",
   "execution_count": 68,
   "metadata": {},
   "outputs": [
    {
     "name": "stdout",
     "output_type": "stream",
     "text": [
      "+--------------------+---------------+\n",
      "|        ReportPeriod|Passenger_Count|\n",
      "+--------------------+---------------+\n",
      "|01/01/2006 12:00:...|            490|\n",
      "|01/01/2006 12:00:...|            498|\n",
      "|01/01/2006 12:00:...|            753|\n",
      "|01/01/2006 12:00:...|            688|\n",
      "|01/01/2006 12:00:...|         401535|\n",
      "+--------------------+---------------+\n",
      "only showing top 5 rows\n",
      "\n"
     ]
    }
   ],
   "source": [
    "port_df = spark.read.options(sep=',', header=True, inferSchema=True).csv(\"/home/ali/DataScience/lax_passengers_header.csv\").select('ReportPeriod', 'Passenger_Count')\n",
    "port_df.show(5)"
   ]
  },
  {
   "cell_type": "code",
   "execution_count": 69,
   "metadata": {},
   "outputs": [
    {
     "name": "stdout",
     "output_type": "stream",
     "text": [
      "+----+-----+---------------+\n",
      "|year|month|Passenger_Count|\n",
      "+----+-----+---------------+\n",
      "|2006|   01|            490|\n",
      "|2006|   01|            498|\n",
      "|2006|   01|            753|\n",
      "|2006|   01|            688|\n",
      "|2006|   01|         401535|\n",
      "|2006|   01|         389745|\n",
      "|2006|   01|            561|\n",
      "|2006|   01|          98991|\n",
      "|2006|   01|         163067|\n",
      "|2006|   01|          93672|\n",
      "|2006|   01|         156751|\n",
      "|2006|   01|         121649|\n",
      "|2006|   01|          26585|\n",
      "|2006|   01|         120111|\n",
      "|2006|   01|          60948|\n",
      "|2006|   01|         381419|\n",
      "|2006|   01|          68348|\n",
      "|2006|   01|         374238|\n",
      "|2006|   01|          42256|\n",
      "|2006|   01|         135622|\n",
      "+----+-----+---------------+\n",
      "only showing top 20 rows\n",
      "\n"
     ]
    }
   ],
   "source": [
    "from pyspark.sql.functions import *\n",
    "split_column = split(port_df['ReportPeriod'], ' ').alias('date')\n",
    "split_date = split(split_column[0], '/').alias('date')\n",
    "port_df = port_df.select(split_date[2].alias('year'), split_date[0].alias('month'), 'Passenger_Count')\n",
    "port_df.show()"
   ]
  },
  {
   "cell_type": "code",
   "execution_count": 88,
   "metadata": {},
   "outputs": [
    {
     "name": "stdout",
     "output_type": "stream",
     "text": [
      "+----+-----+---------------+\n",
      "|year|month|Passenger_Count|\n",
      "+----+-----+---------------+\n",
      "|2006|   03|        5090294|\n",
      "|2006|   04|        5087874|\n",
      "|2006|   05|        5177408|\n",
      "|2006|   06|        5510023|\n",
      "|2006|   07|        5919723|\n",
      "|2006|   08|        5745243|\n",
      "|2006|   12|        5072332|\n",
      "|2007|   03|        5241814|\n",
      "|2007|   04|        5173114|\n",
      "|2007|   05|        5256929|\n",
      "|2007|   06|        5626463|\n",
      "|2007|   07|        6052849|\n",
      "|2007|   08|        5939548|\n",
      "|2007|   10|        5070042|\n",
      "|2007|   12|        5187718|\n",
      "|2008|   03|        5233679|\n",
      "|2008|   05|        5247987|\n",
      "|2008|   06|        5539873|\n",
      "|2008|   07|        5791568|\n",
      "|2008|   08|        5715285|\n",
      "+----+-----+---------------+\n",
      "only showing top 20 rows\n",
      "\n"
     ]
    }
   ],
   "source": [
    "group_port_df = port_df.groupBy('year', 'month').agg(sum('Passenger_Count').alias('Passenger_Count')).filter('Passenger_Count > 5000000').orderBy(col('year'), col('month'))\n",
    "group_port_df.show()"
   ]
  }
 ],
 "metadata": {
  "kernelspec": {
   "display_name": "Python 3",
   "language": "python",
   "name": "python3"
  },
  "language_info": {
   "codemirror_mode": {
    "name": "ipython",
    "version": 3
   },
   "file_extension": ".py",
   "mimetype": "text/x-python",
   "name": "python",
   "nbconvert_exporter": "python",
   "pygments_lexer": "ipython3",
   "version": "3.11.4"
  },
  "orig_nbformat": 4
 },
 "nbformat": 4,
 "nbformat_minor": 2
}
