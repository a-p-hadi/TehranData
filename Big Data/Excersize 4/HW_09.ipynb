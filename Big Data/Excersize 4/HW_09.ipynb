{
 "cells": [
  {
   "cell_type": "code",
   "execution_count": 1,
   "metadata": {},
   "outputs": [
    {
     "name": "stderr",
     "output_type": "stream",
     "text": [
      "Setting default log level to \"WARN\".\n",
      "To adjust logging level use sc.setLogLevel(newLevel). For SparkR, use setLogLevel(newLevel).\n",
      "24/03/15 15:48:02 WARN NativeCodeLoader: Unable to load native-hadoop library for your platform... using builtin-java classes where applicable\n",
      "24/03/15 15:48:03 WARN Utils: Service 'SparkUI' could not bind on port 4040. Attempting port 4041.\n"
     ]
    }
   ],
   "source": [
    "from pyspark.sql import SparkSession\n",
    "from pyspark.sql.functions import *\n",
    "from pyspark.sql.types import *\n",
    "\n",
    "spark = SparkSession.builder.master('local[*]').appName('Hamshahri_1').getOrCreate()\n",
    "\n",
    "text_df_with_filename = spark.read.text(\"./Hamshahri/Hamshahri\").withColumn(\"filename\", substring_index(input_file_name(), \"/\", -1))"
   ]
  },
  {
   "cell_type": "code",
   "execution_count": 2,
   "metadata": {},
   "outputs": [],
   "source": [
    "import re\n",
    "\n",
    "def tokenize_2gram_text(text):\n",
    "    cleaned_text = re.sub(r'[^\\w\\s\\u0600-\\u06FF]', ' ', text)\n",
    "    cleaned_text = re.sub(r'\\؟', ' ', cleaned_text)\n",
    "    words = cleaned_text.split()\n",
    "    if 'title' in words:\n",
    "        words.remove('title')\n",
    "    if 'text' in words:\n",
    "        words.remove('text')\n",
    "    ngrams = []\n",
    "    for i in range(len(words) - 2):\n",
    "        ngram = words[i] + \" \" + words[i + 1] + \" \" + words[i + 2]\n",
    "        ngrams.append(ngram)\n",
    "    return ngrams"
   ]
  },
  {
   "cell_type": "code",
   "execution_count": 4,
   "metadata": {},
   "outputs": [],
   "source": [
    "tokenize_2gram_text_udf = udf(tokenize_2gram_text, ArrayType(StringType()))"
   ]
  },
  {
   "cell_type": "code",
   "execution_count": 6,
   "metadata": {},
   "outputs": [],
   "source": [
    "tokenized_df = text_df_with_filename.withColumn(\"word\", explode(tokenize_2gram_text_udf(col(\"value\"))))\n"
   ]
  },
  {
   "cell_type": "code",
   "execution_count": 7,
   "metadata": {},
   "outputs": [
    {
     "name": "stderr",
     "output_type": "stream",
     "text": [
      "                                                                                \r"
     ]
    },
    {
     "name": "stdout",
     "output_type": "stream",
     "text": [
      "+--------------------+-------------------+--------------------+\n",
      "|               value|           filename|                word|\n",
      "+--------------------+-------------------+--------------------+\n",
      "|{\"title\":\"نام نوي...|HAM2-750405-016.txt|        نام نويسي در|\n",
      "|{\"title\":\"نام نوي...|HAM2-750405-016.txt|       نويسي در كدام|\n",
      "|{\"title\":\"نام نوي...|HAM2-750405-016.txt|       در كدام مدرسه|\n",
      "|{\"title\":\"نام نوي...|HAM2-750405-016.txt|     كدام مدرسه زياد|\n",
      "|{\"title\":\"نام نوي...|HAM2-750405-016.txt|      مدرسه زياد سخت|\n",
      "|{\"title\":\"نام نوي...|HAM2-750405-016.txt|     زياد سخت نگيريم|\n",
      "|{\"title\":\"نام نوي...|HAM2-750405-016.txt|      سخت نگيريم صبح|\n",
      "|{\"title\":\"نام نوي...|HAM2-750405-016.txt|      نگيريم صبح روز|\n",
      "|{\"title\":\"نام نوي...|HAM2-750405-016.txt|     صبح روز پنجشنبه|\n",
      "|{\"title\":\"نام نوي...|HAM2-750405-016.txt|      روز پنجشنبه 30|\n",
      "|{\"title\":\"نام نوي...|HAM2-750405-016.txt|    پنجشنبه 30 خرداد|\n",
      "|{\"title\":\"نام نوي...|HAM2-750405-016.txt|        30 خرداد ماه|\n",
      "|{\"title\":\"نام نوي...|HAM2-750405-016.txt|     خرداد ماه امسال|\n",
      "|{\"title\":\"نام نوي...|HAM2-750405-016.txt|        ماه امسال در|\n",
      "|{\"title\":\"نام نوي...|HAM2-750405-016.txt|        امسال در يكي|\n",
      "|{\"title\":\"نام نوي...|HAM2-750405-016.txt|           در يكي از|\n",
      "|{\"title\":\"نام نوي...|HAM2-750405-016.txt|    يكي از خيابانهاي|\n",
      "|{\"title\":\"نام نوي...|HAM2-750405-016.txt|   از خيابانهاي فرعي|\n",
      "|{\"title\":\"نام نوي...|HAM2-750405-016.txt|خيابانهاي فرعي مر...|\n",
      "|{\"title\":\"نام نوي...|HAM2-750405-016.txt| فرعي مركزشهر تهران،|\n",
      "+--------------------+-------------------+--------------------+\n",
      "only showing top 20 rows\n",
      "\n"
     ]
    }
   ],
   "source": [
    "tokenized_df.show()"
   ]
  },
  {
   "cell_type": "code",
   "execution_count": 8,
   "metadata": {},
   "outputs": [
    {
     "name": "stderr",
     "output_type": "stream",
     "text": [
      "[Stage 4:>                                                          (0 + 6) / 6]\r"
     ]
    },
    {
     "name": "stdout",
     "output_type": "stream",
     "text": [
      "+--------------------------------+----------------------------------------------------------------------------------------------------------------------------------+\n",
      "|word                            |collect_list(struct(filename, count) AS `Name Repeat Count`)                                                                      |\n",
      "+--------------------------------+----------------------------------------------------------------------------------------------------------------------------------+\n",
      "|000 180 ليتر                    |[{HAM2-750409-007.txt, 1}]                                                                                                        |\n",
      "|048 19855ونزوئلا260 19837اندونزي|[{HAM2-750404-006.txt, 1}]                                                                                                        |\n",
      "|1 بچه هربار،                    |[{HAM2-750404-085.txt, 1}]                                                                                                        |\n",
      "|1 تا 2                          |[{HAM2-750406-063.txt, 1}]                                                                                                        |\n",
      "|1 تهران انباشتگاه               |[{HAM2-750402-044.txt, 1}]                                                                                                        |\n",
      "|1 دلار بالا                     |[{HAM2-750403-013.txt, 1}]                                                                                                        |\n",
      "|1 سرمايه گذاري                  |[{HAM2-750407-018.txt, 2}]                                                                                                        |\n",
      "|1 عقبنشيني اسرائيل              |[{HAM2-750404-071.txt, 1}]                                                                                                        |\n",
      "|1 همانطور كه                    |[{HAM2-750405-054.txt, 1}]                                                                                                        |\n",
      "|10 10 سريال                     |[{HAM2-750407-065.txt, 1}, {HAM2-750409-069.txt, 1}, {HAM2-750402-073.txt, 1}, {HAM2-750405-080.txt, 1}, {HAM2-750404-077.txt, 1}]|\n",
      "|10 17 تا                        |[{HAM2-750403-076.txt, 1}]                                                                                                        |\n",
      "|10 تا 12                        |[{HAM2-750402-003.txt, 1}, {HAM2-750407-003.txt, 1}, {HAM2-750405-083.txt, 1}, {HAM2-750406-063.txt, 1}]                          |\n",
      "|10 حمام عمومي                   |[{HAM2-750409-007.txt, 1}]                                                                                                        |\n",
      "|10 خردسال، 11                   |[{HAM2-750406-057.txt, 1}]                                                                                                        |\n",
      "|10 خردسالان 12                  |[{HAM2-750404-077.txt, 1}]                                                                                                        |\n",
      "|10 دسامبر 1904برندگان           |[{HAM2-750407-020.txt, 1}]                                                                                                        |\n",
      "|10 روستاي اين                   |[{HAM2-750407-045.txt, 1}]                                                                                                        |\n",
      "|10 سريال كارگاه                 |[{HAM2-750404-077.txt, 1}]                                                                                                        |\n",
      "|10 هزار نفري                    |[{HAM2-750409-007.txt, 2}]                                                                                                        |\n",
      "|10 هزارنفرجمعيت كشور            |[{HAM2-750406-008.txt, 1}]                                                                                                        |\n",
      "+--------------------------------+----------------------------------------------------------------------------------------------------------------------------------+\n",
      "only showing top 20 rows\n",
      "\n"
     ]
    },
    {
     "name": "stderr",
     "output_type": "stream",
     "text": [
      "                                                                                \r"
     ]
    }
   ],
   "source": [
    "result_df = tokenized_df.groupBy(\"word\", \"filename\").agg(\n",
    "    count(\"word\").cast('int').alias(\"count\")\n",
    ")\n",
    "\n",
    "grouped_df = result_df.groupBy('word').agg(collect_list(struct('filename', 'count').alias('Name Repeat Count')))\n",
    "\n",
    "grouped_df.show(truncate=False)"
   ]
  }
 ],
 "metadata": {
  "kernelspec": {
   "display_name": "Python 3",
   "language": "python",
   "name": "python3"
  },
  "language_info": {
   "codemirror_mode": {
    "name": "ipython",
    "version": 3
   },
   "file_extension": ".py",
   "mimetype": "text/x-python",
   "name": "python",
   "nbconvert_exporter": "python",
   "pygments_lexer": "ipython3",
   "version": "3.11.4"
  },
  "orig_nbformat": 4
 },
 "nbformat": 4,
 "nbformat_minor": 2
}
